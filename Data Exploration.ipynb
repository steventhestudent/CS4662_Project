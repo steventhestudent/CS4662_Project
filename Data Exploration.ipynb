{
 "cells": [
  {
   "metadata": {},
   "cell_type": "markdown",
   "source": "# Data Exploration",
   "id": "7d6041ed83f6aea4"
  },
  {
   "metadata": {
    "ExecuteTime": {
     "end_time": "2025-04-15T01:00:36.122949Z",
     "start_time": "2025-04-15T01:00:33.638157Z"
    }
   },
   "cell_type": "code",
   "source": [
    "import pandas as pd\n",
    "\n",
    "from DevelopedMethods.DF import *  # import np, pd, sklearn fn's --and df (https://www.kaggle.com/datasets/andrewmvd/heart-failure-clinical-data)"
   ],
   "id": "d4e48888f33f0ae2",
   "outputs": [],
   "execution_count": 1
  },
  {
   "metadata": {
    "ExecuteTime": {
     "end_time": "2025-04-15T01:00:36.141651Z",
     "start_time": "2025-04-15T01:00:36.129051Z"
    }
   },
   "cell_type": "code",
   "source": "df.head()",
   "id": "8b2452325e960a54",
   "outputs": [
    {
     "data": {
      "text/plain": [
       "    age  anaemia  creatinine_phosphokinase  diabetes  ejection_fraction  \\\n",
       "0  75.0        0                       582         0                 20   \n",
       "1  55.0        0                      7861         0                 38   \n",
       "2  65.0        0                       146         0                 20   \n",
       "3  50.0        1                       111         0                 20   \n",
       "4  65.0        1                       160         1                 20   \n",
       "\n",
       "   high_blood_pressure  platelets  serum_creatinine  serum_sodium  sex  \\\n",
       "0                    1  265000.00               1.9           130    1   \n",
       "1                    0  263358.03               1.1           136    1   \n",
       "2                    0  162000.00               1.3           129    1   \n",
       "3                    0  210000.00               1.9           137    1   \n",
       "4                    0  327000.00               2.7           116    0   \n",
       "\n",
       "   smoking  time  DEATH_EVENT  \n",
       "0        0     4            1  \n",
       "1        0     6            1  \n",
       "2        1     7            1  \n",
       "3        0     7            1  \n",
       "4        0     8            1  "
      ],
      "text/html": [
       "<div>\n",
       "<style scoped>\n",
       "    .dataframe tbody tr th:only-of-type {\n",
       "        vertical-align: middle;\n",
       "    }\n",
       "\n",
       "    .dataframe tbody tr th {\n",
       "        vertical-align: top;\n",
       "    }\n",
       "\n",
       "    .dataframe thead th {\n",
       "        text-align: right;\n",
       "    }\n",
       "</style>\n",
       "<table border=\"1\" class=\"dataframe\">\n",
       "  <thead>\n",
       "    <tr style=\"text-align: right;\">\n",
       "      <th></th>\n",
       "      <th>age</th>\n",
       "      <th>anaemia</th>\n",
       "      <th>creatinine_phosphokinase</th>\n",
       "      <th>diabetes</th>\n",
       "      <th>ejection_fraction</th>\n",
       "      <th>high_blood_pressure</th>\n",
       "      <th>platelets</th>\n",
       "      <th>serum_creatinine</th>\n",
       "      <th>serum_sodium</th>\n",
       "      <th>sex</th>\n",
       "      <th>smoking</th>\n",
       "      <th>time</th>\n",
       "      <th>DEATH_EVENT</th>\n",
       "    </tr>\n",
       "  </thead>\n",
       "  <tbody>\n",
       "    <tr>\n",
       "      <th>0</th>\n",
       "      <td>75.0</td>\n",
       "      <td>0</td>\n",
       "      <td>582</td>\n",
       "      <td>0</td>\n",
       "      <td>20</td>\n",
       "      <td>1</td>\n",
       "      <td>265000.00</td>\n",
       "      <td>1.9</td>\n",
       "      <td>130</td>\n",
       "      <td>1</td>\n",
       "      <td>0</td>\n",
       "      <td>4</td>\n",
       "      <td>1</td>\n",
       "    </tr>\n",
       "    <tr>\n",
       "      <th>1</th>\n",
       "      <td>55.0</td>\n",
       "      <td>0</td>\n",
       "      <td>7861</td>\n",
       "      <td>0</td>\n",
       "      <td>38</td>\n",
       "      <td>0</td>\n",
       "      <td>263358.03</td>\n",
       "      <td>1.1</td>\n",
       "      <td>136</td>\n",
       "      <td>1</td>\n",
       "      <td>0</td>\n",
       "      <td>6</td>\n",
       "      <td>1</td>\n",
       "    </tr>\n",
       "    <tr>\n",
       "      <th>2</th>\n",
       "      <td>65.0</td>\n",
       "      <td>0</td>\n",
       "      <td>146</td>\n",
       "      <td>0</td>\n",
       "      <td>20</td>\n",
       "      <td>0</td>\n",
       "      <td>162000.00</td>\n",
       "      <td>1.3</td>\n",
       "      <td>129</td>\n",
       "      <td>1</td>\n",
       "      <td>1</td>\n",
       "      <td>7</td>\n",
       "      <td>1</td>\n",
       "    </tr>\n",
       "    <tr>\n",
       "      <th>3</th>\n",
       "      <td>50.0</td>\n",
       "      <td>1</td>\n",
       "      <td>111</td>\n",
       "      <td>0</td>\n",
       "      <td>20</td>\n",
       "      <td>0</td>\n",
       "      <td>210000.00</td>\n",
       "      <td>1.9</td>\n",
       "      <td>137</td>\n",
       "      <td>1</td>\n",
       "      <td>0</td>\n",
       "      <td>7</td>\n",
       "      <td>1</td>\n",
       "    </tr>\n",
       "    <tr>\n",
       "      <th>4</th>\n",
       "      <td>65.0</td>\n",
       "      <td>1</td>\n",
       "      <td>160</td>\n",
       "      <td>1</td>\n",
       "      <td>20</td>\n",
       "      <td>0</td>\n",
       "      <td>327000.00</td>\n",
       "      <td>2.7</td>\n",
       "      <td>116</td>\n",
       "      <td>0</td>\n",
       "      <td>0</td>\n",
       "      <td>8</td>\n",
       "      <td>1</td>\n",
       "    </tr>\n",
       "  </tbody>\n",
       "</table>\n",
       "</div>"
      ]
     },
     "execution_count": 2,
     "metadata": {},
     "output_type": "execute_result"
    }
   ],
   "execution_count": 2
  },
  {
   "metadata": {
    "ExecuteTime": {
     "end_time": "2025-04-15T01:00:37.060024Z",
     "start_time": "2025-04-15T01:00:37.051005Z"
    }
   },
   "cell_type": "code",
   "source": "df.info()",
   "id": "85a31efe1d70c5c2",
   "outputs": [
    {
     "name": "stdout",
     "output_type": "stream",
     "text": [
      "<class 'pandas.core.frame.DataFrame'>\n",
      "RangeIndex: 299 entries, 0 to 298\n",
      "Data columns (total 13 columns):\n",
      " #   Column                    Non-Null Count  Dtype  \n",
      "---  ------                    --------------  -----  \n",
      " 0   age                       299 non-null    float64\n",
      " 1   anaemia                   299 non-null    int64  \n",
      " 2   creatinine_phosphokinase  299 non-null    int64  \n",
      " 3   diabetes                  299 non-null    int64  \n",
      " 4   ejection_fraction         299 non-null    int64  \n",
      " 5   high_blood_pressure       299 non-null    int64  \n",
      " 6   platelets                 299 non-null    float64\n",
      " 7   serum_creatinine          299 non-null    float64\n",
      " 8   serum_sodium              299 non-null    int64  \n",
      " 9   sex                       299 non-null    int64  \n",
      " 10  smoking                   299 non-null    int64  \n",
      " 11  time                      299 non-null    int64  \n",
      " 12  DEATH_EVENT               299 non-null    int64  \n",
      "dtypes: float64(3), int64(10)\n",
      "memory usage: 30.5 KB\n"
     ]
    }
   ],
   "execution_count": 3
  },
  {
   "metadata": {},
   "cell_type": "markdown",
   "source": [
    "**notice <u>all numerical</u> features:**\n",
    "\n",
    "**binary:** *smoking, sex, high_blood_pressure, diabetes, anaemia*\n",
    "\n",
    "**non-binary:** *age, creatinine_phosphokinase, ejection_fraction, platelets, serum_creatinine, serum_sodium, time*"
   ],
   "id": "dc8b57237d3f904f"
  },
  {
   "metadata": {},
   "cell_type": "markdown",
   "source": "## Feature Matrix (X) & Target/label Vector (y)",
   "id": "5cf59a7218f139b9"
  },
  {
   "metadata": {
    "ExecuteTime": {
     "end_time": "2025-04-15T01:00:45.498366Z",
     "start_time": "2025-04-15T01:00:45.491948Z"
    }
   },
   "cell_type": "code",
   "source": [
    "X = df.iloc[:, :-1]\n",
    "y = df['DEATH_EVENT']\n",
    "X_train, X_test, y_train, y_test = train_test_split(X, y, test_size=0.2, random_state=42)"
   ],
   "id": "cb3dfb79f35de6ae",
   "outputs": [],
   "execution_count": 4
  },
  {
   "metadata": {},
   "cell_type": "markdown",
   "source": "## Check for imbalance",
   "id": "f4a314fa74c22634"
  },
  {
   "metadata": {
    "ExecuteTime": {
     "end_time": "2025-04-15T02:18:00.921297Z",
     "start_time": "2025-04-15T02:18:00.913546Z"
    }
   },
   "cell_type": "code",
   "source": [
    "tmp = pd.concat([y.value_counts(), y.value_counts(normalize=True), y_train.value_counts(), y_train.value_counts(normalize=True)], axis=1)\n",
    "tmp.columns = ['DF DEATH_EVENT', f'DF ({len(y)})    %', 'y_train DEATH_EVENT', f'y_train ({len(y_train)})   %']\n",
    "tmp"
   ],
   "id": "e06e3e525fc4ad2f",
   "outputs": [
    {
     "data": {
      "text/plain": [
       "             DF DEATH_EVENT  DF (299)    %  y_train DEATH_EVENT  \\\n",
       "DEATH_EVENT                                                       \n",
       "0                       203        0.67893                  168   \n",
       "1                        96        0.32107                   71   \n",
       "\n",
       "             y_train (239)   %  \n",
       "DEATH_EVENT                     \n",
       "0                     0.702929  \n",
       "1                     0.297071  "
      ],
      "text/html": [
       "<div>\n",
       "<style scoped>\n",
       "    .dataframe tbody tr th:only-of-type {\n",
       "        vertical-align: middle;\n",
       "    }\n",
       "\n",
       "    .dataframe tbody tr th {\n",
       "        vertical-align: top;\n",
       "    }\n",
       "\n",
       "    .dataframe thead th {\n",
       "        text-align: right;\n",
       "    }\n",
       "</style>\n",
       "<table border=\"1\" class=\"dataframe\">\n",
       "  <thead>\n",
       "    <tr style=\"text-align: right;\">\n",
       "      <th></th>\n",
       "      <th>DF DEATH_EVENT</th>\n",
       "      <th>DF (299)    %</th>\n",
       "      <th>y_train DEATH_EVENT</th>\n",
       "      <th>y_train (239)   %</th>\n",
       "    </tr>\n",
       "    <tr>\n",
       "      <th>DEATH_EVENT</th>\n",
       "      <th></th>\n",
       "      <th></th>\n",
       "      <th></th>\n",
       "      <th></th>\n",
       "    </tr>\n",
       "  </thead>\n",
       "  <tbody>\n",
       "    <tr>\n",
       "      <th>0</th>\n",
       "      <td>203</td>\n",
       "      <td>0.67893</td>\n",
       "      <td>168</td>\n",
       "      <td>0.702929</td>\n",
       "    </tr>\n",
       "    <tr>\n",
       "      <th>1</th>\n",
       "      <td>96</td>\n",
       "      <td>0.32107</td>\n",
       "      <td>71</td>\n",
       "      <td>0.297071</td>\n",
       "    </tr>\n",
       "  </tbody>\n",
       "</table>\n",
       "</div>"
      ]
     },
     "execution_count": 117,
     "metadata": {},
     "output_type": "execute_result"
    }
   ],
   "execution_count": 117
  },
  {
   "metadata": {},
   "cell_type": "markdown",
   "source": [
    "#### Mild imbalance. Explore SMOTE, weighted loss functions, or threshold tuning.\n",
    "1. **SMOTE (Synthetic Minority Over-sampling Technique):** This technique generates synthetic samples for the minority class (DEATH_EVENT) to balance the dataset. It's effective but can introduce noise.\n",
    "1. **Weighted Loss Functions:** higher weights to minority class **during training**. This approach helps the model focus more on correctly predicting the minority class without altering the dataset.\n",
    "1. **Threshold Tuning:** Adjust the decision threshold of your model's predictions to improve sensitivity for the minority class. This is useful **after model training**."
   ],
   "id": "f78e328e7017346c"
  },
  {
   "metadata": {
    "ExecuteTime": {
     "end_time": "2025-04-15T02:19:30.743744Z",
     "start_time": "2025-04-15T02:19:30.736542Z"
    }
   },
   "cell_type": "code",
   "source": [
    "smote = SMOTE(random_state=42)\n",
    "X_resampled, y_resampled = smote.fit_resample(X_train, y_train)\n",
    "y_resampled.value_counts()"
   ],
   "id": "f4f991a506e4fd28",
   "outputs": [
    {
     "data": {
      "text/plain": [
       "DEATH_EVENT\n",
       "1    168\n",
       "0    168\n",
       "Name: count, dtype: int64"
      ]
     },
     "execution_count": 122,
     "metadata": {},
     "output_type": "execute_result"
    }
   ],
   "execution_count": 122
  },
  {
   "metadata": {},
   "cell_type": "markdown",
   "source": "Detect SMOTE Noise",
   "id": "c6151b0e1c3fd0e0"
  },
  {
   "metadata": {
    "ExecuteTime": {
     "end_time": "2025-04-15T02:51:54.400678Z",
     "start_time": "2025-04-15T02:51:54.256444Z"
    }
   },
   "cell_type": "code",
   "source": [
    "# fig, axes = plt.subplots(1, 2, figsize=(12, 6))  # 1 row, 2 columns\n",
    "\n",
    "# ROC Curves subplot\n",
    "axes[0].set_title(\"X_train\")\n",
    "sns.scatterplot(x=X_train.iloc[:, 0], y=X_train.iloc[:, 1], hue=y_train, size=10, alpha=0.3, ax=axes[0])\n",
    "\n",
    "axes[1].set_title('X_resampled')\n",
    "# axes[1].legend(*scatter.legend_elements(), title=\"Clusters\")\n",
    "sns.scatterplot(x=X_resampled.iloc[:, 0], y=X_resampled.iloc[:, 1], hue=y_resampled, size=10, alpha=0.3, ax=axes[1])\n",
    "\n",
    "plt.show()"
   ],
   "id": "b8349d4a88cdc297",
   "outputs": [
    {
     "data": {
      "text/plain": [
       "<Figure size 1200x600 with 2 Axes>"
      ],
      "image/png": "[encoded data removed]"
     },
     "metadata": {},
     "output_type": "display_data"
    }
   ],
   "execution_count": 146
  },
  {
   "metadata": {},
   "cell_type": "markdown",
   "source": [
    "handle SMOTE noise:\n",
    "```\n",
    " 1 Use a Smaller k-Nearest Neighbors (k): When generating synthetic samples,\n",
    "   use a smaller value for k (e.g., k=3) to reduce the influence of distant\n",
    "   neighbors.\n",
    " 2 Combine with Undersampling: Use SMOTE in conjunction with undersampling\n",
    "   the majority class to reduce the overall dataset size and potential noise.\n",
    " 3 Outlier Detection: Apply outlier detection techniques (e.g., Isolation\n",
    "   Forest, DBSCAN) to identify and remove noisy samples before applying\n",
    "   SMOTE.\n",
    " 4 Evaluate Model Robustness: After training, validate your model using\n",
    "   cross-validation and check performance metrics to ensure it generalizes\n",
    "   well despite potential noise.```"
   ],
   "id": "a347a33acbaf13e5"
  },
  {
   "metadata": {
    "ExecuteTime": {
     "end_time": "2025-04-14T07:03:33.121578Z",
     "start_time": "2025-04-14T07:03:33.112436Z"
    }
   },
   "cell_type": "code",
   "outputs": [
    {
     "data": {
      "text/plain": [
       "DEATH_EVENT\n",
       "1    168\n",
       "0    168\n",
       "Name: count, dtype: int64"
      ]
     },
     "execution_count": 15,
     "metadata": {},
     "output_type": "execute_result"
    }
   ],
   "execution_count": 15,
   "source": "",
   "id": "1f6eaad226ee1392"
  },
  {
   "metadata": {},
   "cell_type": "markdown",
   "source": "## Attempt PCA",
   "id": "5f557c49811b8e63"
  },
  {
   "metadata": {
    "ExecuteTime": {
     "end_time": "2025-04-13T15:09:50.539759Z",
     "start_time": "2025-04-13T15:09:50.523937Z"
    }
   },
   "cell_type": "code",
   "outputs": [
    {
     "data": {
      "text/plain": [
       "\"1 SMOTE (Synthetic Minority Over-sampling Technique): This technique generates synthetic samples for the minority class (DEATH_EVENT) to balance the dataset. It's effective but can introduce noise.\\n 2 Weighted Loss Functions: Assign higher weights to the minority class during model training. This approach helps the model focus more on correctly predicting the minority class without altering the dataset.\\n 3 Threshold Tuning: Adjust the decision threshold of your model's predictions to improve sensitivity for the minority class. This is useful after model training.\""
      ]
     },
     "execution_count": 6,
     "metadata": {},
     "output_type": "execute_result"
    }
   ],
   "execution_count": 6,
   "source": [
    "corr = df.corr()\n",
    "plt.figure(figsize=(10,6))\n",
    "sns.heatmap(corr,\n",
    "            xticklabels=corr.columns.values,\n",
    "            yticklabels=corr.columns.values,\n",
    "            cmap=\"BuPu\",\n",
    "            vmin=-1,\n",
    "            vmax=1,\n",
    "            annot=True)\n",
    "plt.title(\"Correlation Heatmap\")\n",
    "plt.show()\n",
    "##%% md\n",
    "\n",
    "compare SVM vs. ANN across different metrics (AUC-ROC, precision-recall, F1-score)\n",
    "- find Hyperparameters – Grid search, random search, or Bayesian optimization\n",
    "\n",
    "???Using SHAP or LIME to explain predictions???\n"
   ],
   "id": "8afebe44afe9b9d5"
  },
  {
   "metadata": {},
   "cell_type": "code",
   "outputs": [],
   "execution_count": null,
   "source": "##%%\n",
   "id": "82b240f3b7622040"
  },
  {
   "metadata": {
    "ExecuteTime": {
     "end_time": "2025-04-13T14:58:57.437065Z",
     "start_time": "2025-04-13T14:58:57.434349Z"
    }
   },
   "cell_type": "code",
   "source": "",
   "id": "b9a7b4b08d54863",
   "outputs": [],
   "execution_count": null
  }
 ],
 "metadata": {
  "kernelspec": {
   "display_name": "Python 3",
   "language": "python",
   "name": "python3"
  },
  "language_info": {
   "codemirror_mode": {
    "name": "ipython",
    "version": 2
   },
   "file_extension": ".py",
   "mimetype": "text/x-python",
   "name": "python",
   "nbconvert_exporter": "python",
   "pygments_lexer": "ipython2",
   "version": "2.7.6"
  }
 },
 "nbformat": 4,
 "nbformat_minor": 5
}
